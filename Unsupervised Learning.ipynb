{
 "cells": [
  {
   "cell_type": "code",
   "execution_count": 2,
   "metadata": {},
   "outputs": [
    {
     "data": {
      "text/plain": [
       "<matplotlib.collections.PathCollection at 0x7fcb33cda9e8>"
      ]
     },
     "execution_count": 2,
     "metadata": {},
     "output_type": "execute_result"
    }
   ],
   "source": [
    "import pandas as pd\n",
    "pointsdf = pd.read_csv(\"/cxldata/mltut/points.csv\");\n",
    "\n",
    "import numpy as np\n",
    "points = np.array(pointsdf)\n",
    "\n",
    "xs = points[:, 0]\n",
    "ys  = points[:, 1]\n",
    "\n",
    "import matplotlib.pyplot as plt\n",
    "plt.scatter(xs, ys)\n"
   ]
  },
  {
   "cell_type": "code",
   "execution_count": 3,
   "metadata": {},
   "outputs": [
    {
     "name": "stdout",
     "output_type": "stream",
     "text": [
      "[0 0 1]\n"
     ]
    }
   ],
   "source": [
    "from sklearn.cluster import KMeans\n",
    "model = KMeans( n_clusters=3)  \n",
    "t=model.fit(points)\n",
    "clusters = model.fit_predict(points)\n",
    "clusters\n",
    "new_points = [[4,3],[4,1],[-5,1]]\n",
    "j = model.predict(new_points)\n",
    "print(j)"
   ]
  },
  {
   "cell_type": "code",
   "execution_count": 15,
   "metadata": {},
   "outputs": [],
   "source": []
  },
  {
   "cell_type": "code",
   "execution_count": 19,
   "metadata": {},
   "outputs": [
    {
     "data": {
      "text/plain": [
       "<matplotlib.collections.PathCollection at 0x7f090986f6a0>"
      ]
     },
     "execution_count": 19,
     "metadata": {},
     "output_type": "execute_result"
    },
    {
     "data": {
      "image/png": "[encoded data removed]",
      "text/plain": [
       "<Figure size 432x288 with 1 Axes>"
      ]
     },
     "metadata": {},
     "output_type": "display_data"
    }
   ],
   "source": []
  },
  {
   "cell_type": "markdown",
   "metadata": {},
   "source": [
    "Using Dataset\n",
    "https://archive.ics.uci.edu/ml/datasets/seeds\n",
    "\n",
    "## How many clusters of grain?"
   ]
  },
  {
   "cell_type": "code",
   "execution_count": 20,
   "metadata": {},
   "outputs": [
    {
     "name": "stdout",
     "output_type": "stream",
     "text": [
      "--2019-02-08 13:47:38--  https://archive.ics.uci.edu/ml/machine-learning-databases/00236/seeds_dataset.txt\n",
      "Resolving archive.ics.uci.edu (archive.ics.uci.edu)... 128.195.10.249\n",
      "Connecting to archive.ics.uci.edu (archive.ics.uci.edu)|128.195.10.249|:443... connected.\n",
      "HTTP request sent, awaiting response... 200 OK\n",
      "Length: 9300 (9.1K) [text/plain]\n",
      "Saving to: ‘seeds_dataset.txt’\n",
      "\n",
      "100%[======================================>] 9,300       --.-K/s   in 0s      \n",
      "\n",
      "2019-02-08 13:47:38 (175 MB/s) - ‘seeds_dataset.txt’ saved [9300/9300]\n",
      "\n"
     ]
    }
   ],
   "source": [
    "!wget https://archive.ics.uci.edu/ml/machine-learning-databases/00236/seeds_dataset.txt"
   ]
  },
  {
   "cell_type": "code",
   "execution_count": 21,
   "metadata": {},
   "outputs": [
    {
     "name": "stdout",
     "output_type": "stream",
     "text": [
      "12.38\t13.44\t0.8609\t5.219\t2.989\t5.472\t5.045\t3\r\n",
      "12.67\t13.32\t0.8977\t4.984\t3.135\t2.3\t\t4.745\t3\r\n",
      "11.18\t12.72\t0.868\t5.009\t2.81\t4.051\t4.828\t3\r\n",
      "12.7\t13.41\t0.8874\t5.183\t3.091\t8.456\t5\t\t3\r\n",
      "12.37\t13.47\t0.8567\t5.204\t2.96\t3.919\t5.001\t3\r\n",
      "12.19\t13.2\t0.8783\t5.137\t2.981\t3.631\t4.87\t3\r\n",
      "11.23\t12.88\t0.8511\t5.14\t2.795\t4.325\t5.003\t3\r\n",
      "13.2\t13.66\t0.8883\t5.236\t3.232\t8.315\t5.056\t3\r\n",
      "11.84\t13.21\t0.8521\t5.175\t2.836\t3.598\t5.044\t3\r\n",
      "12.3\t13.34\t0.8684\t5.243\t2.974\t5.637\t5.063\t3"
     ]
    }
   ],
   "source": [
    "!tail seeds_dataset.txt"
   ]
  },
  {
   "cell_type": "code",
   "execution_count": 40,
   "metadata": {},
   "outputs": [],
   "source": [
    "data = np.fromfile(\"seeds_dataset.txt\", sep=\"\\t\")"
   ]
  },
  {
   "cell_type": "code",
   "execution_count": 41,
   "metadata": {},
   "outputs": [
    {
     "data": {
      "text/plain": [
       "array([15.26 , 14.84 ,  0.871, ...,  5.637,  5.063,  3.   ])"
      ]
     },
     "execution_count": 41,
     "metadata": {},
     "output_type": "execute_result"
    }
   ],
   "source": [
    "data"
   ]
  },
  {
   "cell_type": "code",
   "execution_count": 42,
   "metadata": {},
   "outputs": [],
   "source": [
    "data = data.reshape(-1, 8)"
   ]
  },
  {
   "cell_type": "code",
   "execution_count": 43,
   "metadata": {},
   "outputs": [
    {
     "data": {
      "text/plain": [
       "(210, 8)"
      ]
     },
     "execution_count": 43,
     "metadata": {},
     "output_type": "execute_result"
    }
   ],
   "source": [
    "data.shape"
   ]
  },
  {
   "cell_type": "code",
   "execution_count": 44,
   "metadata": {},
   "outputs": [
    {
     "data": {
      "text/plain": [
       "array([15.26 , 14.84 ,  0.871,  5.763,  3.312,  2.221,  5.22 ,  1.   ])"
      ]
     },
     "execution_count": 44,
     "metadata": {},
     "output_type": "execute_result"
    }
   ],
   "source": [
    "data[0]"
   ]
  },
  {
   "cell_type": "code",
   "execution_count": 46,
   "metadata": {},
   "outputs": [],
   "source": [
    "samples = data[:, 0:7]"
   ]
  },
  {
   "cell_type": "code",
   "execution_count": 47,
   "metadata": {},
   "outputs": [
    {
     "data": {
      "text/plain": [
       "(210, 7)"
      ]
     },
     "execution_count": 47,
     "metadata": {},
     "output_type": "execute_result"
    }
   ],
   "source": [
    "samples.shape"
   ]
  },
  {
   "cell_type": "code",
   "execution_count": 51,
   "metadata": {},
   "outputs": [
    {
     "data": {
      "image/png": "[encoded data removed]",
      "text/plain": [
       "<Figure size 432x288 with 1 Axes>"
      ]
     },
     "metadata": {},
     "output_type": "display_data"
    }
   ],
   "source": [
    "ks = range(1, 10)\n",
    "inertias = []\n",
    "\n",
    "for k in ks:\n",
    "    # Create a KMeans instance with k clusters: model\n",
    "    model = KMeans(n_clusters=k)\n",
    "    \n",
    "    # Fit model to samples\n",
    "    model.fit(samples)\n",
    "    \n",
    "    # Append the inertia to the list of inertias\n",
    "    inertias.append(model.inertia_)\n",
    "    \n",
    "# Plot ks vs inertias\n",
    "plt.plot(ks, inertias, '-o')\n",
    "plt.xlabel('number of clusters, k')\n",
    "plt.ylabel('inertia')\n",
    "plt.xticks(ks)\n",
    "plt.show()\n"
   ]
  },
  {
   "cell_type": "markdown",
   "metadata": {},
   "source": [
    "## Using Cross Tab"
   ]
  },
  {
   "cell_type": "code",
   "execution_count": 56,
   "metadata": {},
   "outputs": [
    {
     "name": "stdout",
     "output_type": "stream",
     "text": [
      "varieties  1.0  2.0  3.0\n",
      "labels                  \n",
      "0           60   10    2\n",
      "1            1   60    0\n",
      "2            9    0   68\n"
     ]
    }
   ],
   "source": [
    "\n",
    "samples = data[:, 0:7]\n",
    "varieties = data[:, 7]\n",
    "\n",
    "# Create a KMeans model with 3 clusters: model\n",
    "model = KMeans(n_clusters=3)\n",
    "\n",
    "# Use fit_predict to fit model and obtain cluster labels: labels\n",
    "labels = model.fit_predict(samples)\n",
    "\n",
    "# Create a DataFrame with labels and varieties as columns: df\n",
    "df = pd.DataFrame({'labels': labels, 'varieties': varieties})\n",
    "\n",
    "# Create crosstab: ct\n",
    "ct = pd.crosstab(df['labels'], df['varieties'])\n",
    "\n",
    "# Display ct\n",
    "print(ct)"
   ]
  },
  {
   "cell_type": "code",
   "execution_count": 58,
   "metadata": {},
   "outputs": [
    {
     "data": {
      "text/html": [
       "<div>\n",
       "<style scoped>\n",
       "    .dataframe tbody tr th:only-of-type {\n",
       "        vertical-align: middle;\n",
       "    }\n",
       "\n",
       "    .dataframe tbody tr th {\n",
       "        vertical-align: top;\n",
       "    }\n",
       "\n",
       "    .dataframe thead th {\n",
       "        text-align: right;\n",
       "    }\n",
       "</style>\n",
       "<table border=\"1\" class=\"dataframe\">\n",
       "  <thead>\n",
       "    <tr style=\"text-align: right;\">\n",
       "      <th>varieties</th>\n",
       "      <th>1.0</th>\n",
       "      <th>2.0</th>\n",
       "      <th>3.0</th>\n",
       "    </tr>\n",
       "    <tr>\n",
       "      <th>labels</th>\n",
       "      <th></th>\n",
       "      <th></th>\n",
       "      <th></th>\n",
       "    </tr>\n",
       "  </thead>\n",
       "  <tbody>\n",
       "    <tr>\n",
       "      <th>0</th>\n",
       "      <td>60</td>\n",
       "      <td>10</td>\n",
       "      <td>2</td>\n",
       "    </tr>\n",
       "    <tr>\n",
       "      <th>1</th>\n",
       "      <td>1</td>\n",
       "      <td>60</td>\n",
       "      <td>0</td>\n",
       "    </tr>\n",
       "    <tr>\n",
       "      <th>2</th>\n",
       "      <td>9</td>\n",
       "      <td>0</td>\n",
       "      <td>68</td>\n",
       "    </tr>\n",
       "  </tbody>\n",
       "</table>\n",
       "</div>"
      ],
      "text/plain": [
       "varieties  1.0  2.0  3.0\n",
       "labels                  \n",
       "0           60   10    2\n",
       "1            1   60    0\n",
       "2            9    0   68"
      ]
     },
     "execution_count": 58,
     "metadata": {},
     "output_type": "execute_result"
    }
   ],
   "source": [
    "ct"
   ]
  },
  {
   "cell_type": "markdown",
   "metadata": {},
   "source": [
    "## Try shuffling the data"
   ]
  },
  {
   "cell_type": "code",
   "execution_count": 61,
   "metadata": {},
   "outputs": [],
   "source": [
    "np.random.shuffle(data)\n"
   ]
  },
  {
   "cell_type": "code",
   "execution_count": 60,
   "metadata": {},
   "outputs": [
    {
     "name": "stdout",
     "output_type": "stream",
     "text": [
      "varieties  1.0  2.0  3.0\n",
      "labels                  \n",
      "0            9    0   68\n",
      "1            1   60    0\n",
      "2           60   10    2\n"
     ]
    }
   ],
   "source": [
    "\n",
    "samples = data[:, 0:7]\n",
    "varieties = data[:, 7]\n",
    "\n",
    "# Create a KMeans model with 3 clusters: model\n",
    "model = KMeans(n_clusters=3)\n",
    "\n",
    "# Use fit_predict to fit model and obtain cluster labels: labels\n",
    "labels = model.fit_predict(samples)\n",
    "\n",
    "# Create a DataFrame with labels and varieties as columns: df\n",
    "df = pd.DataFrame({'labels': labels, 'varieties': varieties})\n",
    "\n",
    "# Create crosstab: ct\n",
    "ct = pd.crosstab(df['labels'], df['varieties'])\n",
    "\n",
    "# Display ct\n",
    "print(ct)"
   ]
  },
  {
   "cell_type": "markdown",
   "metadata": {},
   "source": [
    "## Wines Dataset"
   ]
  },
  {
   "cell_type": "code",
   "execution_count": 62,
   "metadata": {
    "scrolled": true
   },
   "outputs": [
    {
     "name": "stdout",
     "output_type": "stream",
     "text": [
      "--2019-02-08 14:14:51--  https://archive.ics.uci.edu/ml/machine-learning-databases/wine/wine.data\n",
      "Resolving archive.ics.uci.edu (archive.ics.uci.edu)... 128.195.10.249\n",
      "Connecting to archive.ics.uci.edu (archive.ics.uci.edu)|128.195.10.249|:443... connected.\n",
      "HTTP request sent, awaiting response... 200 OK\n",
      "Length: 10782 (11K) [text/plain]\n",
      "Saving to: ‘wine.data’\n",
      "\n",
      "100%[======================================>] 10,782      --.-K/s   in 0s      \n",
      "\n",
      "2019-02-08 14:14:52 (176 MB/s) - ‘wine.data’ saved [10782/10782]\n",
      "\n"
     ]
    }
   ],
   "source": [
    "!wget https://archive.ics.uci.edu/ml/machine-learning-databases/wine/wine.data"
   ]
  },
  {
   "cell_type": "code",
   "execution_count": 113,
   "metadata": {},
   "outputs": [
    {
     "name": "stdout",
     "output_type": "stream",
     "text": [
      "3,13.58,2.58,2.69,24.5,105,1.55,.84,.39,1.54,8.66,.74,1.8,750\r\n",
      "3,13.4,4.6,2.86,25,112,1.98,.96,.27,1.11,8.5,.67,1.92,630\r\n",
      "3,12.2,3.03,2.32,19,96,1.25,.49,.4,.73,5.5,.66,1.83,510\r\n",
      "3,12.77,2.39,2.28,19.5,86,1.39,.51,.48,.64,9.899999,.57,1.63,470\r\n",
      "3,14.16,2.51,2.48,20,91,1.68,.7,.44,1.24,9.7,.62,1.71,660\r\n",
      "3,13.71,5.65,2.45,20.5,95,1.68,.61,.52,1.06,7.7,.64,1.74,740\r\n",
      "3,13.4,3.91,2.48,23,102,1.8,.75,.43,1.41,7.3,.7,1.56,750\r\n",
      "3,13.27,4.28,2.26,20,120,1.59,.69,.43,1.35,10.2,.59,1.56,835\r\n",
      "3,13.17,2.59,2.37,20,120,1.65,.68,.53,1.46,9.3,.6,1.62,840\r\n",
      "3,14.13,4.1,2.74,24.5,96,2.05,.76,.56,1.35,9.2,.61,1.6,560\r\n"
     ]
    }
   ],
   "source": [
    "!tail wine.data"
   ]
  },
  {
   "cell_type": "code",
   "execution_count": 96,
   "metadata": {},
   "outputs": [
    {
     "name": "stdout",
     "output_type": "stream",
     "text": [
      "178 wine.data\r\n"
     ]
    }
   ],
   "source": [
    "!wc -l wine.data"
   ]
  },
  {
   "cell_type": "code",
   "execution_count": 133,
   "metadata": {},
   "outputs": [],
   "source": [
    "import numpy as np\n",
    "\n",
    "winedf = pd.read_csv(\"wine.data\");\n",
    "winedata = np.array(winedf)\n",
    "\n"
   ]
  },
  {
   "cell_type": "code",
   "execution_count": 134,
   "metadata": {},
   "outputs": [
    {
     "data": {
      "text/plain": [
       "(177, 14)"
      ]
     },
     "execution_count": 134,
     "metadata": {},
     "output_type": "execute_result"
    }
   ],
   "source": [
    "winedata.shape"
   ]
  },
  {
   "cell_type": "code",
   "execution_count": 135,
   "metadata": {},
   "outputs": [],
   "source": [
    "X = winedata[:, 1:14]"
   ]
  },
  {
   "cell_type": "code",
   "execution_count": 136,
   "metadata": {},
   "outputs": [],
   "source": [
    "y = winedata[:, 0]"
   ]
  },
  {
   "cell_type": "code",
   "execution_count": 138,
   "metadata": {},
   "outputs": [
    {
     "data": {
      "text/html": [
       "<div>\n",
       "<style scoped>\n",
       "    .dataframe tbody tr th:only-of-type {\n",
       "        vertical-align: middle;\n",
       "    }\n",
       "\n",
       "    .dataframe tbody tr th {\n",
       "        vertical-align: top;\n",
       "    }\n",
       "\n",
       "    .dataframe thead th {\n",
       "        text-align: right;\n",
       "    }\n",
       "</style>\n",
       "<table border=\"1\" class=\"dataframe\">\n",
       "  <thead>\n",
       "    <tr style=\"text-align: right;\">\n",
       "      <th>varieties</th>\n",
       "      <th>1.0</th>\n",
       "      <th>2.0</th>\n",
       "      <th>3.0</th>\n",
       "    </tr>\n",
       "    <tr>\n",
       "      <th>labels</th>\n",
       "      <th></th>\n",
       "      <th></th>\n",
       "      <th></th>\n",
       "    </tr>\n",
       "  </thead>\n",
       "  <tbody>\n",
       "    <tr>\n",
       "      <th>0</th>\n",
       "      <td>0</td>\n",
       "      <td>50</td>\n",
       "      <td>19</td>\n",
       "    </tr>\n",
       "    <tr>\n",
       "      <th>1</th>\n",
       "      <td>45</td>\n",
       "      <td>1</td>\n",
       "      <td>0</td>\n",
       "    </tr>\n",
       "    <tr>\n",
       "      <th>2</th>\n",
       "      <td>13</td>\n",
       "      <td>20</td>\n",
       "      <td>29</td>\n",
       "    </tr>\n",
       "  </tbody>\n",
       "</table>\n",
       "</div>"
      ],
      "text/plain": [
       "varieties  1.0  2.0  3.0\n",
       "labels                  \n",
       "0            0   50   19\n",
       "1           45    1    0\n",
       "2           13   20   29"
      ]
     },
     "execution_count": 138,
     "metadata": {},
     "output_type": "execute_result"
    }
   ],
   "source": [
    "# Create a KMeans model with 3 clusters: model\n",
    "model = KMeans(n_clusters=3)\n",
    "\n",
    "# Use fit_predict to fit model and obtain cluster labels: labels\n",
    "labels = model.fit_predict(X)\n",
    "\n",
    "# Create a DataFrame with labels and varieties as columns: df\n",
    "df = pd.DataFrame({'labels': labels, 'varieties': y})\n",
    "\n",
    "# Create crosstab: ct\n",
    "ct_unscaled = pd.crosstab(df['labels'], df['varieties'])\n",
    "\n",
    "# Display ct\n",
    "ct_unscaled"
   ]
  },
  {
   "cell_type": "code",
   "execution_count": 127,
   "metadata": {},
   "outputs": [
    {
     "data": {
      "text/html": [
       "<div>\n",
       "<style scoped>\n",
       "    .dataframe tbody tr th:only-of-type {\n",
       "        vertical-align: middle;\n",
       "    }\n",
       "\n",
       "    .dataframe tbody tr th {\n",
       "        vertical-align: top;\n",
       "    }\n",
       "\n",
       "    .dataframe thead th {\n",
       "        text-align: right;\n",
       "    }\n",
       "</style>\n",
       "<table border=\"1\" class=\"dataframe\">\n",
       "  <thead>\n",
       "    <tr style=\"text-align: right;\">\n",
       "      <th></th>\n",
       "      <th>0</th>\n",
       "      <th>1</th>\n",
       "      <th>2</th>\n",
       "      <th>3</th>\n",
       "      <th>4</th>\n",
       "      <th>5</th>\n",
       "      <th>6</th>\n",
       "      <th>7</th>\n",
       "      <th>8</th>\n",
       "      <th>9</th>\n",
       "      <th>10</th>\n",
       "      <th>11</th>\n",
       "      <th>12</th>\n",
       "    </tr>\n",
       "  </thead>\n",
       "  <tbody>\n",
       "    <tr>\n",
       "      <th>count</th>\n",
       "      <td>177.000000</td>\n",
       "      <td>177.000000</td>\n",
       "      <td>177.000000</td>\n",
       "      <td>177.000000</td>\n",
       "      <td>177.000000</td>\n",
       "      <td>177.000000</td>\n",
       "      <td>177.000000</td>\n",
       "      <td>177.000000</td>\n",
       "      <td>177.000000</td>\n",
       "      <td>177.000000</td>\n",
       "      <td>177.000000</td>\n",
       "      <td>177.000000</td>\n",
       "      <td>177.000000</td>\n",
       "    </tr>\n",
       "    <tr>\n",
       "      <th>mean</th>\n",
       "      <td>12.993672</td>\n",
       "      <td>2.339887</td>\n",
       "      <td>2.366158</td>\n",
       "      <td>19.516949</td>\n",
       "      <td>99.587571</td>\n",
       "      <td>2.292260</td>\n",
       "      <td>2.023446</td>\n",
       "      <td>0.362316</td>\n",
       "      <td>1.586949</td>\n",
       "      <td>5.054802</td>\n",
       "      <td>0.956983</td>\n",
       "      <td>2.604294</td>\n",
       "      <td>745.096045</td>\n",
       "    </tr>\n",
       "    <tr>\n",
       "      <th>std</th>\n",
       "      <td>0.808808</td>\n",
       "      <td>1.119314</td>\n",
       "      <td>0.275080</td>\n",
       "      <td>3.336071</td>\n",
       "      <td>14.174018</td>\n",
       "      <td>0.626465</td>\n",
       "      <td>0.998658</td>\n",
       "      <td>0.124653</td>\n",
       "      <td>0.571545</td>\n",
       "      <td>2.324446</td>\n",
       "      <td>0.229135</td>\n",
       "      <td>0.705103</td>\n",
       "      <td>314.884046</td>\n",
       "    </tr>\n",
       "    <tr>\n",
       "      <th>min</th>\n",
       "      <td>11.030000</td>\n",
       "      <td>0.740000</td>\n",
       "      <td>1.360000</td>\n",
       "      <td>10.600000</td>\n",
       "      <td>70.000000</td>\n",
       "      <td>0.980000</td>\n",
       "      <td>0.340000</td>\n",
       "      <td>0.130000</td>\n",
       "      <td>0.410000</td>\n",
       "      <td>1.280000</td>\n",
       "      <td>0.480000</td>\n",
       "      <td>1.270000</td>\n",
       "      <td>278.000000</td>\n",
       "    </tr>\n",
       "    <tr>\n",
       "      <th>25%</th>\n",
       "      <td>12.360000</td>\n",
       "      <td>1.600000</td>\n",
       "      <td>2.210000</td>\n",
       "      <td>17.200000</td>\n",
       "      <td>88.000000</td>\n",
       "      <td>1.740000</td>\n",
       "      <td>1.200000</td>\n",
       "      <td>0.270000</td>\n",
       "      <td>1.250000</td>\n",
       "      <td>3.210000</td>\n",
       "      <td>0.780000</td>\n",
       "      <td>1.930000</td>\n",
       "      <td>500.000000</td>\n",
       "    </tr>\n",
       "    <tr>\n",
       "      <th>50%</th>\n",
       "      <td>13.050000</td>\n",
       "      <td>1.870000</td>\n",
       "      <td>2.360000</td>\n",
       "      <td>19.500000</td>\n",
       "      <td>98.000000</td>\n",
       "      <td>2.350000</td>\n",
       "      <td>2.130000</td>\n",
       "      <td>0.340000</td>\n",
       "      <td>1.550000</td>\n",
       "      <td>4.680000</td>\n",
       "      <td>0.960000</td>\n",
       "      <td>2.780000</td>\n",
       "      <td>672.000000</td>\n",
       "    </tr>\n",
       "    <tr>\n",
       "      <th>75%</th>\n",
       "      <td>13.670000</td>\n",
       "      <td>3.100000</td>\n",
       "      <td>2.560000</td>\n",
       "      <td>21.500000</td>\n",
       "      <td>107.000000</td>\n",
       "      <td>2.800000</td>\n",
       "      <td>2.860000</td>\n",
       "      <td>0.440000</td>\n",
       "      <td>1.950000</td>\n",
       "      <td>6.200000</td>\n",
       "      <td>1.120000</td>\n",
       "      <td>3.170000</td>\n",
       "      <td>985.000000</td>\n",
       "    </tr>\n",
       "    <tr>\n",
       "      <th>max</th>\n",
       "      <td>14.830000</td>\n",
       "      <td>5.800000</td>\n",
       "      <td>3.230000</td>\n",
       "      <td>30.000000</td>\n",
       "      <td>162.000000</td>\n",
       "      <td>3.880000</td>\n",
       "      <td>5.080000</td>\n",
       "      <td>0.660000</td>\n",
       "      <td>3.580000</td>\n",
       "      <td>13.000000</td>\n",
       "      <td>1.710000</td>\n",
       "      <td>4.000000</td>\n",
       "      <td>1680.000000</td>\n",
       "    </tr>\n",
       "  </tbody>\n",
       "</table>\n",
       "</div>"
      ],
      "text/plain": [
       "               0           1           2           3           4           5   \\\n",
       "count  177.000000  177.000000  177.000000  177.000000  177.000000  177.000000   \n",
       "mean    12.993672    2.339887    2.366158   19.516949   99.587571    2.292260   \n",
       "std      0.808808    1.119314    0.275080    3.336071   14.174018    0.626465   \n",
       "min     11.030000    0.740000    1.360000   10.600000   70.000000    0.980000   \n",
       "25%     12.360000    1.600000    2.210000   17.200000   88.000000    1.740000   \n",
       "50%     13.050000    1.870000    2.360000   19.500000   98.000000    2.350000   \n",
       "75%     13.670000    3.100000    2.560000   21.500000  107.000000    2.800000   \n",
       "max     14.830000    5.800000    3.230000   30.000000  162.000000    3.880000   \n",
       "\n",
       "               6           7           8           9           10          11  \\\n",
       "count  177.000000  177.000000  177.000000  177.000000  177.000000  177.000000   \n",
       "mean     2.023446    0.362316    1.586949    5.054802    0.956983    2.604294   \n",
       "std      0.998658    0.124653    0.571545    2.324446    0.229135    0.705103   \n",
       "min      0.340000    0.130000    0.410000    1.280000    0.480000    1.270000   \n",
       "25%      1.200000    0.270000    1.250000    3.210000    0.780000    1.930000   \n",
       "50%      2.130000    0.340000    1.550000    4.680000    0.960000    2.780000   \n",
       "75%      2.860000    0.440000    1.950000    6.200000    1.120000    3.170000   \n",
       "max      5.080000    0.660000    3.580000   13.000000    1.710000    4.000000   \n",
       "\n",
       "                12  \n",
       "count   177.000000  \n",
       "mean    745.096045  \n",
       "std     314.884046  \n",
       "min     278.000000  \n",
       "25%     500.000000  \n",
       "50%     672.000000  \n",
       "75%     985.000000  \n",
       "max    1680.000000  "
      ]
     },
     "execution_count": 127,
     "metadata": {},
     "output_type": "execute_result"
    }
   ],
   "source": [
    "pd.DataFrame(X).describe()"
   ]
  },
  {
   "cell_type": "code",
   "execution_count": 139,
   "metadata": {},
   "outputs": [],
   "source": [
    "import sklearn\n"
   ]
  },
  {
   "cell_type": "code",
   "execution_count": 140,
   "metadata": {},
   "outputs": [],
   "source": [
    "from sklearn.preprocessing import StandardScaler"
   ]
  },
  {
   "cell_type": "code",
   "execution_count": 141,
   "metadata": {},
   "outputs": [],
   "source": [
    "scaler = StandardScaler()"
   ]
  },
  {
   "cell_type": "code",
   "execution_count": 142,
   "metadata": {},
   "outputs": [],
   "source": [
    "X_scaled = scaler.fit_transform(X)"
   ]
  },
  {
   "cell_type": "code",
   "execution_count": 143,
   "metadata": {},
   "outputs": [
    {
     "data": {
      "text/html": [
       "<div>\n",
       "<style scoped>\n",
       "    .dataframe tbody tr th:only-of-type {\n",
       "        vertical-align: middle;\n",
       "    }\n",
       "\n",
       "    .dataframe tbody tr th {\n",
       "        vertical-align: top;\n",
       "    }\n",
       "\n",
       "    .dataframe thead th {\n",
       "        text-align: right;\n",
       "    }\n",
       "</style>\n",
       "<table border=\"1\" class=\"dataframe\">\n",
       "  <thead>\n",
       "    <tr style=\"text-align: right;\">\n",
       "      <th>varieties</th>\n",
       "      <th>1.0</th>\n",
       "      <th>2.0</th>\n",
       "      <th>3.0</th>\n",
       "    </tr>\n",
       "    <tr>\n",
       "      <th>labels</th>\n",
       "      <th></th>\n",
       "      <th></th>\n",
       "      <th></th>\n",
       "    </tr>\n",
       "  </thead>\n",
       "  <tbody>\n",
       "    <tr>\n",
       "      <th>0</th>\n",
       "      <td>0</td>\n",
       "      <td>3</td>\n",
       "      <td>48</td>\n",
       "    </tr>\n",
       "    <tr>\n",
       "      <th>1</th>\n",
       "      <td>58</td>\n",
       "      <td>3</td>\n",
       "      <td>0</td>\n",
       "    </tr>\n",
       "    <tr>\n",
       "      <th>2</th>\n",
       "      <td>0</td>\n",
       "      <td>65</td>\n",
       "      <td>0</td>\n",
       "    </tr>\n",
       "  </tbody>\n",
       "</table>\n",
       "</div>"
      ],
      "text/plain": [
       "varieties  1.0  2.0  3.0\n",
       "labels                  \n",
       "0            0    3   48\n",
       "1           58    3    0\n",
       "2            0   65    0"
      ]
     },
     "execution_count": 143,
     "metadata": {},
     "output_type": "execute_result"
    }
   ],
   "source": [
    "# Create a KMeans model with 3 clusters: model\n",
    "model = KMeans(n_clusters=3)\n",
    "\n",
    "# Use fit_predict to fit model and obtain cluster labels: labels\n",
    "labels = model.fit_predict(X_scaled)\n",
    "\n",
    "# Create a DataFrame with labels and varieties as columns: df\n",
    "df = pd.DataFrame({'labels': labels, 'varieties': y})\n",
    "\n",
    "# Create crosstab: ct\n",
    "ct_scaled = pd.crosstab(df['labels'], df['varieties'])\n",
    "\n",
    "# Display ct\n",
    "ct_scaled"
   ]
  },
  {
   "cell_type": "code",
   "execution_count": 144,
   "metadata": {},
   "outputs": [
    {
     "data": {
      "text/html": [
       "<div>\n",
       "<style scoped>\n",
       "    .dataframe tbody tr th:only-of-type {\n",
       "        vertical-align: middle;\n",
       "    }\n",
       "\n",
       "    .dataframe tbody tr th {\n",
       "        vertical-align: top;\n",
       "    }\n",
       "\n",
       "    .dataframe thead th {\n",
       "        text-align: right;\n",
       "    }\n",
       "</style>\n",
       "<table border=\"1\" class=\"dataframe\">\n",
       "  <thead>\n",
       "    <tr style=\"text-align: right;\">\n",
       "      <th>varieties</th>\n",
       "      <th>1.0</th>\n",
       "      <th>2.0</th>\n",
       "      <th>3.0</th>\n",
       "    </tr>\n",
       "    <tr>\n",
       "      <th>labels</th>\n",
       "      <th></th>\n",
       "      <th></th>\n",
       "      <th></th>\n",
       "    </tr>\n",
       "  </thead>\n",
       "  <tbody>\n",
       "    <tr>\n",
       "      <th>0</th>\n",
       "      <td>0</td>\n",
       "      <td>50</td>\n",
       "      <td>19</td>\n",
       "    </tr>\n",
       "    <tr>\n",
       "      <th>1</th>\n",
       "      <td>45</td>\n",
       "      <td>1</td>\n",
       "      <td>0</td>\n",
       "    </tr>\n",
       "    <tr>\n",
       "      <th>2</th>\n",
       "      <td>13</td>\n",
       "      <td>20</td>\n",
       "      <td>29</td>\n",
       "    </tr>\n",
       "  </tbody>\n",
       "</table>\n",
       "</div>"
      ],
      "text/plain": [
       "varieties  1.0  2.0  3.0\n",
       "labels                  \n",
       "0            0   50   19\n",
       "1           45    1    0\n",
       "2           13   20   29"
      ]
     },
     "execution_count": 144,
     "metadata": {},
     "output_type": "execute_result"
    }
   ],
   "source": [
    "ct_unscaled"
   ]
  },
  {
   "cell_type": "code",
   "execution_count": 145,
   "metadata": {},
   "outputs": [
    {
     "data": {
      "text/html": [
       "<div>\n",
       "<style scoped>\n",
       "    .dataframe tbody tr th:only-of-type {\n",
       "        vertical-align: middle;\n",
       "    }\n",
       "\n",
       "    .dataframe tbody tr th {\n",
       "        vertical-align: top;\n",
       "    }\n",
       "\n",
       "    .dataframe thead th {\n",
       "        text-align: right;\n",
       "    }\n",
       "</style>\n",
       "<table border=\"1\" class=\"dataframe\">\n",
       "  <thead>\n",
       "    <tr style=\"text-align: right;\">\n",
       "      <th></th>\n",
       "      <th>0</th>\n",
       "      <th>1</th>\n",
       "      <th>2</th>\n",
       "      <th>3</th>\n",
       "      <th>4</th>\n",
       "      <th>5</th>\n",
       "      <th>6</th>\n",
       "      <th>7</th>\n",
       "      <th>8</th>\n",
       "      <th>9</th>\n",
       "      <th>10</th>\n",
       "      <th>11</th>\n",
       "      <th>12</th>\n",
       "    </tr>\n",
       "  </thead>\n",
       "  <tbody>\n",
       "    <tr>\n",
       "      <th>count</th>\n",
       "      <td>1.770000e+02</td>\n",
       "      <td>1.770000e+02</td>\n",
       "      <td>1.770000e+02</td>\n",
       "      <td>1.770000e+02</td>\n",
       "      <td>1.770000e+02</td>\n",
       "      <td>1.770000e+02</td>\n",
       "      <td>1.770000e+02</td>\n",
       "      <td>1.770000e+02</td>\n",
       "      <td>1.770000e+02</td>\n",
       "      <td>1.770000e+02</td>\n",
       "      <td>1.770000e+02</td>\n",
       "      <td>1.770000e+02</td>\n",
       "      <td>1.770000e+02</td>\n",
       "    </tr>\n",
       "    <tr>\n",
       "      <th>mean</th>\n",
       "      <td>-2.609338e-16</td>\n",
       "      <td>4.252719e-16</td>\n",
       "      <td>-4.378168e-16</td>\n",
       "      <td>-6.410440e-16</td>\n",
       "      <td>-1.028681e-16</td>\n",
       "      <td>-1.279579e-16</td>\n",
       "      <td>1.505387e-16</td>\n",
       "      <td>-5.595022e-16</td>\n",
       "      <td>5.645202e-17</td>\n",
       "      <td>1.568112e-16</td>\n",
       "      <td>6.310081e-16</td>\n",
       "      <td>6.335171e-16</td>\n",
       "      <td>2.389802e-16</td>\n",
       "    </tr>\n",
       "    <tr>\n",
       "      <th>std</th>\n",
       "      <td>1.002837e+00</td>\n",
       "      <td>1.002837e+00</td>\n",
       "      <td>1.002837e+00</td>\n",
       "      <td>1.002837e+00</td>\n",
       "      <td>1.002837e+00</td>\n",
       "      <td>1.002837e+00</td>\n",
       "      <td>1.002837e+00</td>\n",
       "      <td>1.002837e+00</td>\n",
       "      <td>1.002837e+00</td>\n",
       "      <td>1.002837e+00</td>\n",
       "      <td>1.002837e+00</td>\n",
       "      <td>1.002837e+00</td>\n",
       "      <td>1.002837e+00</td>\n",
       "    </tr>\n",
       "    <tr>\n",
       "      <th>min</th>\n",
       "      <td>-2.434746e+00</td>\n",
       "      <td>-1.433400e+00</td>\n",
       "      <td>-3.668064e+00</td>\n",
       "      <td>-2.680472e+00</td>\n",
       "      <td>-2.093373e+00</td>\n",
       "      <td>-2.100648e+00</td>\n",
       "      <td>-1.690491e+00</td>\n",
       "      <td>-1.868993e+00</td>\n",
       "      <td>-2.065084e+00</td>\n",
       "      <td>-1.628565e+00</td>\n",
       "      <td>-2.087573e+00</td>\n",
       "      <td>-1.897707e+00</td>\n",
       "      <td>-1.487599e+00</td>\n",
       "    </tr>\n",
       "    <tr>\n",
       "      <th>25%</th>\n",
       "      <td>-7.856866e-01</td>\n",
       "      <td>-6.628933e-01</td>\n",
       "      <td>-5.692924e-01</td>\n",
       "      <td>-6.964846e-01</td>\n",
       "      <td>-8.198411e-01</td>\n",
       "      <td>-8.840502e-01</td>\n",
       "      <td>-8.268924e-01</td>\n",
       "      <td>-7.426883e-01</td>\n",
       "      <td>-5.912136e-01</td>\n",
       "      <td>-7.959038e-01</td>\n",
       "      <td>-7.745875e-01</td>\n",
       "      <td>-9.590184e-01</td>\n",
       "      <td>-7.805774e-01</td>\n",
       "    </tr>\n",
       "    <tr>\n",
       "      <th>50%</th>\n",
       "      <td>6.984037e-02</td>\n",
       "      <td>-4.209899e-01</td>\n",
       "      <td>-2.245039e-02</td>\n",
       "      <td>-5.094986e-03</td>\n",
       "      <td>-1.123234e-01</td>\n",
       "      <td>9.242960e-02</td>\n",
       "      <td>1.069996e-01</td>\n",
       "      <td>-1.795360e-01</td>\n",
       "      <td>-6.483128e-02</td>\n",
       "      <td>-1.617011e-01</td>\n",
       "      <td>1.320404e-02</td>\n",
       "      <td>2.498992e-01</td>\n",
       "      <td>-2.327949e-01</td>\n",
       "    </tr>\n",
       "    <tr>\n",
       "      <th>75%</th>\n",
       "      <td>8.385748e-01</td>\n",
       "      <td>6.810145e-01</td>\n",
       "      <td>7.066723e-01</td>\n",
       "      <td>5.961134e-01</td>\n",
       "      <td>5.244425e-01</td>\n",
       "      <td>8.127835e-01</td>\n",
       "      <td>8.400546e-01</td>\n",
       "      <td>6.249672e-01</td>\n",
       "      <td>6.370119e-01</td>\n",
       "      <td>4.940731e-01</td>\n",
       "      <td>7.134631e-01</td>\n",
       "      <td>8.045791e-01</td>\n",
       "      <td>7.640417e-01</td>\n",
       "    </tr>\n",
       "    <tr>\n",
       "      <th>max</th>\n",
       "      <td>2.276852e+00</td>\n",
       "      <td>3.100048e+00</td>\n",
       "      <td>3.149233e+00</td>\n",
       "      <td>3.151249e+00</td>\n",
       "      <td>4.415790e+00</td>\n",
       "      <td>2.541633e+00</td>\n",
       "      <td>3.069345e+00</td>\n",
       "      <td>2.394874e+00</td>\n",
       "      <td>3.497023e+00</td>\n",
       "      <td>3.427800e+00</td>\n",
       "      <td>3.295669e+00</td>\n",
       "      <td>1.985052e+00</td>\n",
       "      <td>2.977465e+00</td>\n",
       "    </tr>\n",
       "  </tbody>\n",
       "</table>\n",
       "</div>"
      ],
      "text/plain": [
       "                 0             1             2             3             4   \\\n",
       "count  1.770000e+02  1.770000e+02  1.770000e+02  1.770000e+02  1.770000e+02   \n",
       "mean  -2.609338e-16  4.252719e-16 -4.378168e-16 -6.410440e-16 -1.028681e-16   \n",
       "std    1.002837e+00  1.002837e+00  1.002837e+00  1.002837e+00  1.002837e+00   \n",
       "min   -2.434746e+00 -1.433400e+00 -3.668064e+00 -2.680472e+00 -2.093373e+00   \n",
       "25%   -7.856866e-01 -6.628933e-01 -5.692924e-01 -6.964846e-01 -8.198411e-01   \n",
       "50%    6.984037e-02 -4.209899e-01 -2.245039e-02 -5.094986e-03 -1.123234e-01   \n",
       "75%    8.385748e-01  6.810145e-01  7.066723e-01  5.961134e-01  5.244425e-01   \n",
       "max    2.276852e+00  3.100048e+00  3.149233e+00  3.151249e+00  4.415790e+00   \n",
       "\n",
       "                 5             6             7             8             9   \\\n",
       "count  1.770000e+02  1.770000e+02  1.770000e+02  1.770000e+02  1.770000e+02   \n",
       "mean  -1.279579e-16  1.505387e-16 -5.595022e-16  5.645202e-17  1.568112e-16   \n",
       "std    1.002837e+00  1.002837e+00  1.002837e+00  1.002837e+00  1.002837e+00   \n",
       "min   -2.100648e+00 -1.690491e+00 -1.868993e+00 -2.065084e+00 -1.628565e+00   \n",
       "25%   -8.840502e-01 -8.268924e-01 -7.426883e-01 -5.912136e-01 -7.959038e-01   \n",
       "50%    9.242960e-02  1.069996e-01 -1.795360e-01 -6.483128e-02 -1.617011e-01   \n",
       "75%    8.127835e-01  8.400546e-01  6.249672e-01  6.370119e-01  4.940731e-01   \n",
       "max    2.541633e+00  3.069345e+00  2.394874e+00  3.497023e+00  3.427800e+00   \n",
       "\n",
       "                 10            11            12  \n",
       "count  1.770000e+02  1.770000e+02  1.770000e+02  \n",
       "mean   6.310081e-16  6.335171e-16  2.389802e-16  \n",
       "std    1.002837e+00  1.002837e+00  1.002837e+00  \n",
       "min   -2.087573e+00 -1.897707e+00 -1.487599e+00  \n",
       "25%   -7.745875e-01 -9.590184e-01 -7.805774e-01  \n",
       "50%    1.320404e-02  2.498992e-01 -2.327949e-01  \n",
       "75%    7.134631e-01  8.045791e-01  7.640417e-01  \n",
       "max    3.295669e+00  1.985052e+00  2.977465e+00  "
      ]
     },
     "execution_count": 145,
     "metadata": {},
     "output_type": "execute_result"
    }
   ],
   "source": [
    "pd.DataFrame(X_scaled).describe()"
   ]
  },
  {
   "cell_type": "code",
   "execution_count": 148,
   "metadata": {},
   "outputs": [
    {
     "data": {
      "text/html": [
       "<div>\n",
       "<style scoped>\n",
       "    .dataframe tbody tr th:only-of-type {\n",
       "        vertical-align: middle;\n",
       "    }\n",
       "\n",
       "    .dataframe tbody tr th {\n",
       "        vertical-align: top;\n",
       "    }\n",
       "\n",
       "    .dataframe thead th {\n",
       "        text-align: right;\n",
       "    }\n",
       "</style>\n",
       "<table border=\"1\" class=\"dataframe\">\n",
       "  <thead>\n",
       "    <tr style=\"text-align: right;\">\n",
       "      <th>varieties</th>\n",
       "      <th>1.0</th>\n",
       "      <th>2.0</th>\n",
       "      <th>3.0</th>\n",
       "    </tr>\n",
       "    <tr>\n",
       "      <th>labels</th>\n",
       "      <th></th>\n",
       "      <th></th>\n",
       "      <th></th>\n",
       "    </tr>\n",
       "  </thead>\n",
       "  <tbody>\n",
       "    <tr>\n",
       "      <th>0</th>\n",
       "      <td>0</td>\n",
       "      <td>33</td>\n",
       "      <td>4</td>\n",
       "    </tr>\n",
       "    <tr>\n",
       "      <th>1</th>\n",
       "      <td>8</td>\n",
       "      <td>33</td>\n",
       "      <td>40</td>\n",
       "    </tr>\n",
       "    <tr>\n",
       "      <th>2</th>\n",
       "      <td>50</td>\n",
       "      <td>5</td>\n",
       "      <td>4</td>\n",
       "    </tr>\n",
       "  </tbody>\n",
       "</table>\n",
       "</div>"
      ],
      "text/plain": [
       "varieties  1.0  2.0  3.0\n",
       "labels                  \n",
       "0            0   33    4\n",
       "1            8   33   40\n",
       "2           50    5    4"
      ]
     },
     "execution_count": 148,
     "metadata": {},
     "output_type": "execute_result"
    }
   ],
   "source": [
    "from sklearn.preprocessing import Normalizer\n",
    "normzer = Normalizer()\n",
    "X_norm = normzer.fit_transform(X)\n",
    "\n",
    "# Create a KMeans model with 3 clusters: model\n",
    "model = KMeans(n_clusters=3)\n",
    "\n",
    "# Use fit_predict to fit model and obtain cluster labels: labels\n",
    "labels = model.fit_predict(X_norm)\n",
    "\n",
    "# Create a DataFrame with labels and varieties as columns: df\n",
    "df = pd.DataFrame({'labels': labels, 'varieties': y})\n",
    "\n",
    "# Create crosstab: ct\n",
    "ct_norm = pd.crosstab(df['labels'], df['varieties'])\n",
    "\n",
    "# Display ct\n",
    "ct_norm"
   ]
  },
  {
   "cell_type": "code",
   "execution_count": 149,
   "metadata": {},
   "outputs": [
    {
     "data": {
      "text/html": [
       "<div>\n",
       "<style scoped>\n",
       "    .dataframe tbody tr th:only-of-type {\n",
       "        vertical-align: middle;\n",
       "    }\n",
       "\n",
       "    .dataframe tbody tr th {\n",
       "        vertical-align: top;\n",
       "    }\n",
       "\n",
       "    .dataframe thead th {\n",
       "        text-align: right;\n",
       "    }\n",
       "</style>\n",
       "<table border=\"1\" class=\"dataframe\">\n",
       "  <thead>\n",
       "    <tr style=\"text-align: right;\">\n",
       "      <th>varieties</th>\n",
       "      <th>1.0</th>\n",
       "      <th>2.0</th>\n",
       "      <th>3.0</th>\n",
       "    </tr>\n",
       "    <tr>\n",
       "      <th>labels</th>\n",
       "      <th></th>\n",
       "      <th></th>\n",
       "      <th></th>\n",
       "    </tr>\n",
       "  </thead>\n",
       "  <tbody>\n",
       "    <tr>\n",
       "      <th>0</th>\n",
       "      <td>0</td>\n",
       "      <td>65</td>\n",
       "      <td>0</td>\n",
       "    </tr>\n",
       "    <tr>\n",
       "      <th>1</th>\n",
       "      <td>0</td>\n",
       "      <td>3</td>\n",
       "      <td>48</td>\n",
       "    </tr>\n",
       "    <tr>\n",
       "      <th>2</th>\n",
       "      <td>58</td>\n",
       "      <td>3</td>\n",
       "      <td>0</td>\n",
       "    </tr>\n",
       "  </tbody>\n",
       "</table>\n",
       "</div>"
      ],
      "text/plain": [
       "varieties  1.0  2.0  3.0\n",
       "labels                  \n",
       "0            0   65    0\n",
       "1            0    3   48\n",
       "2           58    3    0"
      ]
     },
     "execution_count": 149,
     "metadata": {},
     "output_type": "execute_result"
    }
   ],
   "source": [
    "ct_scaled\n"
   ]
  },
  {
   "cell_type": "code",
   "execution_count": 150,
   "metadata": {},
   "outputs": [
    {
     "data": {
      "text/html": [
       "<div>\n",
       "<style scoped>\n",
       "    .dataframe tbody tr th:only-of-type {\n",
       "        vertical-align: middle;\n",
       "    }\n",
       "\n",
       "    .dataframe tbody tr th {\n",
       "        vertical-align: top;\n",
       "    }\n",
       "\n",
       "    .dataframe thead th {\n",
       "        text-align: right;\n",
       "    }\n",
       "</style>\n",
       "<table border=\"1\" class=\"dataframe\">\n",
       "  <thead>\n",
       "    <tr style=\"text-align: right;\">\n",
       "      <th>varieties</th>\n",
       "      <th>1.0</th>\n",
       "      <th>2.0</th>\n",
       "      <th>3.0</th>\n",
       "    </tr>\n",
       "    <tr>\n",
       "      <th>labels</th>\n",
       "      <th></th>\n",
       "      <th></th>\n",
       "      <th></th>\n",
       "    </tr>\n",
       "  </thead>\n",
       "  <tbody>\n",
       "    <tr>\n",
       "      <th>0</th>\n",
       "      <td>0</td>\n",
       "      <td>50</td>\n",
       "      <td>19</td>\n",
       "    </tr>\n",
       "    <tr>\n",
       "      <th>1</th>\n",
       "      <td>45</td>\n",
       "      <td>1</td>\n",
       "      <td>0</td>\n",
       "    </tr>\n",
       "    <tr>\n",
       "      <th>2</th>\n",
       "      <td>13</td>\n",
       "      <td>20</td>\n",
       "      <td>29</td>\n",
       "    </tr>\n",
       "  </tbody>\n",
       "</table>\n",
       "</div>"
      ],
      "text/plain": [
       "varieties  1.0  2.0  3.0\n",
       "labels                  \n",
       "0            0   50   19\n",
       "1           45    1    0\n",
       "2           13   20   29"
      ]
     },
     "execution_count": 150,
     "metadata": {},
     "output_type": "execute_result"
    }
   ],
   "source": [
    "ct_unscaled"
   ]
  },
  {
   "cell_type": "markdown",
   "metadata": {},
   "source": [
    "## Heirarchical Clustering"
   ]
  },
  {
   "cell_type": "code",
   "execution_count": 19,
   "metadata": {},
   "outputs": [
    {
     "data": {
      "image/png": "[encoded data removed]",
      "text/plain": [
       "<Figure size 432x288 with 1 Axes>"
      ]
     },
     "metadata": {},
     "output_type": "display_data"
    }
   ],
   "source": [
    "# Authors: Mathew Kallada\n",
    "# License: BSD 3 clause\n",
    "\"\"\"\n",
    "=========================================\n",
    "Plot Hierarachical Clustering Dendrogram \n",
    "=========================================\n",
    "This example plots the corresponding dendrogram of a hierarchical clustering\n",
    "using AgglomerativeClustering and the dendrogram method available in scipy.\n",
    "\"\"\"\n",
    "\n",
    "import numpy as np\n",
    "\n",
    "from matplotlib import pyplot as plt\n",
    "from scipy.cluster.hierarchy import dendrogram\n",
    "from sklearn.datasets import load_iris\n",
    "from sklearn.cluster import AgglomerativeClustering\n",
    "\n",
    "def plot_dendrogram(model, **kwargs):\n",
    "\n",
    "    # Children of hierarchical clustering\n",
    "    children = model.children_\n",
    "\n",
    "    # Distances between each pair of children\n",
    "    # Since we don't have this information, we can use a uniform one for plotting\n",
    "    distance = np.arange(children.shape[0])\n",
    "\n",
    "    # The number of observations contained in each cluster level\n",
    "    no_of_observations = np.arange(2, children.shape[0]+2)\n",
    "\n",
    "    # Create linkage matrix and then plot the dendrogram\n",
    "    linkage_matrix = np.column_stack([children, distance, no_of_observations]).astype(float)\n",
    "\n",
    "    # Plot the corresponding dendrogram\n",
    "    dendrogram(linkage_matrix, **kwargs)\n",
    "\n",
    "\n",
    "iris = load_iris()\n",
    "x = iris.data[:20]\n",
    "model = AgglomerativeClustering(n_clusters=3)\n",
    "\n",
    "model = model.fit(x)\n",
    "plt.title('Hierarchical Clustering Dendrogram')\n",
    "plot_dendrogram(model, labels=model.labels_)\n",
    "plt.show()"
   ]
  },
  {
   "cell_type": "code",
   "execution_count": 20,
   "metadata": {},
   "outputs": [
    {
     "name": "stdout",
     "output_type": "stream",
     "text": [
      "--2019-02-08 15:46:05--  http://archive.ics.uci.edu/ml/machine-learning-databases/auto-mpg/auto-mpg.data\n",
      "Resolving archive.ics.uci.edu (archive.ics.uci.edu)... 128.195.10.249\n",
      "Connecting to archive.ics.uci.edu (archive.ics.uci.edu)|128.195.10.249|:80... connected.\n",
      "HTTP request sent, awaiting response... 200 OK\n",
      "Length: 30286 (30K) [text/plain]\n",
      "Saving to: ‘auto-mpg.data.1’\n",
      "\n",
      "100%[======================================>] 30,286      --.-K/s   in 0.06s   \n",
      "\n",
      "2019-02-08 15:46:06 (459 KB/s) - ‘auto-mpg.data.1’ saved [30286/30286]\n",
      "\n"
     ]
    }
   ],
   "source": [
    "!wget http://archive.ics.uci.edu/ml/machine-learning-databases/auto-mpg/auto-mpg.data"
   ]
  },
  {
   "cell_type": "code",
   "execution_count": 22,
   "metadata": {},
   "outputs": [],
   "source": [
    "data = pd.read_csv(\"auto-mpg.data\", sep=\"\\t\")"
   ]
  },
  {
   "cell_type": "code",
   "execution_count": 55,
   "metadata": {},
   "outputs": [],
   "source": [
    "X_arr = []\n",
    "for i in data.iloc[:, 0]:\n",
    "    row = []\n",
    "    for r in i.split(\" \"):\n",
    "        if len(r) > 0:\n",
    "            if r != \"?\":\n",
    "                row.append(float(r))\n",
    "            else:\n",
    "                row.append(float(0))\n",
    "    X_arr.append(row)"
   ]
  },
  {
   "cell_type": "code",
   "execution_count": 56,
   "metadata": {},
   "outputs": [
    {
     "data": {
      "text/plain": [
       "[15.0, 8.0, 350.0, 165.0, 3693.0, 11.5, 70.0, 1.0]"
      ]
     },
     "execution_count": 56,
     "metadata": {},
     "output_type": "execute_result"
    }
   ],
   "source": [
    "X_arr[0]"
   ]
  },
  {
   "cell_type": "code",
   "execution_count": 80,
   "metadata": {},
   "outputs": [],
   "source": [
    "X = np.array(X_arr)[0:30, :]"
   ]
  },
  {
   "cell_type": "code",
   "execution_count": 79,
   "metadata": {},
   "outputs": [],
   "source": [
    "y = np.array(data.iloc[0:30, 1])"
   ]
  },
  {
   "cell_type": "code",
   "execution_count": 73,
   "metadata": {},
   "outputs": [
    {
     "data": {
      "text/plain": [
       "(397,)"
      ]
     },
     "execution_count": 73,
     "metadata": {},
     "output_type": "execute_result"
    }
   ],
   "source": [
    "y.shape"
   ]
  },
  {
   "cell_type": "code",
   "execution_count": 74,
   "metadata": {
    "scrolled": true
   },
   "outputs": [
    {
     "data": {
      "text/plain": [
       "(20, 8)"
      ]
     },
     "execution_count": 74,
     "metadata": {},
     "output_type": "execute_result"
    }
   ],
   "source": [
    "X.shape"
   ]
  },
  {
   "cell_type": "code",
   "execution_count": 89,
   "metadata": {},
   "outputs": [
    {
     "data": {
      "image/png": "[encoded data removed]",
      "text/plain": [
       "<Figure size 432x288 with 1 Axes>"
      ]
     },
     "metadata": {},
     "output_type": "display_data"
    }
   ],
   "source": [
    "model = AgglomerativeClustering(n_clusters=3)\n",
    "model = model.fit(X)\n",
    "plt.title('Auto MPG Clustering Dendrogram')\n",
    "plot_dendrogram(model, labels=y, leaf_rotation=90)\n",
    "plt.show()"
   ]
  },
  {
   "cell_type": "code",
   "execution_count": null,
   "metadata": {},
   "outputs": [],
   "source": []
  }
 ],
 "metadata": {
  "kernelspec": {
   "display_name": "Python 3",
   "language": "python",
   "name": "python3"
  },
  "language_info": {
   "codemirror_mode": {
    "name": "ipython",
    "version": 3
   },
   "file_extension": ".py",
   "mimetype": "text/x-python",
   "name": "python",
   "nbconvert_exporter": "python",
   "pygments_lexer": "ipython3",
   "version": "3.6.5"
  },
  "toc": {
   "base_numbering": 1,
   "nav_menu": {},
   "number_sections": true,
   "sideBar": true,
   "skip_h1_title": false,
   "title_cell": "Table of Contents",
   "title_sidebar": "Contents",
   "toc_cell": false,
   "toc_position": {},
   "toc_section_display": true,
   "toc_window_display": false
  }
 },
 "nbformat": 4,
 "nbformat_minor": 2
}
